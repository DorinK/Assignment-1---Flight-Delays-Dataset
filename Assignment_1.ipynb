{
  "nbformat": 4,
  "nbformat_minor": 0,
  "metadata": {
    "colab": {
      "name": "Assignment 1",
      "provenance": [],
      "collapsed_sections": []
    },
    "kernelspec": {
      "name": "python3",
      "display_name": "Python 3"
    },
    "accelerator": "GPU"
  },
  "cells": [
    {
      "cell_type": "code",
      "metadata": {
        "id": "stYit-uGbayX",
        "colab_type": "code",
        "colab": {}
      },
      "source": [
        "import pandas as pd\n",
        "from google.colab import drive\n",
        "import matplotlib.pyplot as plt\n",
        "from sklearn.model_selection import train_test_split\n",
        "from sklearn.linear_model import LogisticRegression\n",
        "from sklearn.metrics import confusion_matrix\n",
        "from sklearn.naive_bayes import BernoulliNB\n",
        "from sklearn.neighbors import KNeighborsClassifier\n",
        "from sklearn.svm import LinearSVC"
      ],
      "execution_count": null,
      "outputs": []
    },
    {
      "cell_type": "markdown",
      "metadata": {
        "id": "AweBS3ty84vI",
        "colab_type": "text"
      },
      "source": [
        "# Section 1: Data Science"
      ]
    },
    {
      "cell_type": "markdown",
      "metadata": {
        "id": "ztp3zKBmo7yc",
        "colab_type": "text"
      },
      "source": [
        "TODO: Load the flights training data into 'data'."
      ]
    },
    {
      "cell_type": "code",
      "metadata": {
        "id": "jlzgpkMZbuzc",
        "colab_type": "code",
        "colab": {
          "base_uri": "https://localhost:8080/",
          "height": 51
        },
        "outputId": "d7b5a1c2-231a-497a-ee90-f3e2bc8b70d5"
      },
      "source": [
        "drive.mount('/content/drive')\n",
        "%cd '/content/drive/My Drive/Practical topics in Machine Learning/EX1'"
      ],
      "execution_count": null,
      "outputs": [
        {
          "output_type": "stream",
          "text": [
            "Drive already mounted at /content/drive; to attempt to forcibly remount, call drive.mount(\"/content/drive\", force_remount=True).\n",
            "/content/drive/My Drive/Practical topics in Machine Learning/EX1\n"
          ],
          "name": "stdout"
        }
      ]
    },
    {
      "cell_type": "code",
      "metadata": {
        "id": "1l8mm0g9AraT",
        "colab_type": "code",
        "colab": {}
      },
      "source": [
        "data = pd.read_csv('./flight_delays_train.csv')"
      ],
      "execution_count": null,
      "outputs": []
    },
    {
      "cell_type": "code",
      "metadata": {
        "id": "N5WcG1XGAtUp",
        "colab_type": "code",
        "colab": {
          "base_uri": "https://localhost:8080/",
          "height": 204
        },
        "outputId": "39c198c9-3f73-414d-bc64-96eb55460047"
      },
      "source": [
        "data.head()"
      ],
      "execution_count": null,
      "outputs": [
        {
          "output_type": "execute_result",
          "data": {
            "text/html": [
              "<div>\n",
              "<style scoped>\n",
              "    .dataframe tbody tr th:only-of-type {\n",
              "        vertical-align: middle;\n",
              "    }\n",
              "\n",
              "    .dataframe tbody tr th {\n",
              "        vertical-align: top;\n",
              "    }\n",
              "\n",
              "    .dataframe thead th {\n",
              "        text-align: right;\n",
              "    }\n",
              "</style>\n",
              "<table border=\"1\" class=\"dataframe\">\n",
              "  <thead>\n",
              "    <tr style=\"text-align: right;\">\n",
              "      <th></th>\n",
              "      <th>Month</th>\n",
              "      <th>DayofMonth</th>\n",
              "      <th>DayOfWeek</th>\n",
              "      <th>DepTime</th>\n",
              "      <th>UniqueCarrier</th>\n",
              "      <th>Origin</th>\n",
              "      <th>Dest</th>\n",
              "      <th>Distance</th>\n",
              "      <th>dep_delayed_15min</th>\n",
              "    </tr>\n",
              "  </thead>\n",
              "  <tbody>\n",
              "    <tr>\n",
              "      <th>0</th>\n",
              "      <td>c-8</td>\n",
              "      <td>c-21</td>\n",
              "      <td>c-7</td>\n",
              "      <td>1934</td>\n",
              "      <td>AA</td>\n",
              "      <td>ATL</td>\n",
              "      <td>DFW</td>\n",
              "      <td>732</td>\n",
              "      <td>N</td>\n",
              "    </tr>\n",
              "    <tr>\n",
              "      <th>1</th>\n",
              "      <td>c-4</td>\n",
              "      <td>c-20</td>\n",
              "      <td>c-3</td>\n",
              "      <td>1548</td>\n",
              "      <td>US</td>\n",
              "      <td>PIT</td>\n",
              "      <td>MCO</td>\n",
              "      <td>834</td>\n",
              "      <td>N</td>\n",
              "    </tr>\n",
              "    <tr>\n",
              "      <th>2</th>\n",
              "      <td>c-9</td>\n",
              "      <td>c-2</td>\n",
              "      <td>c-5</td>\n",
              "      <td>1422</td>\n",
              "      <td>XE</td>\n",
              "      <td>RDU</td>\n",
              "      <td>CLE</td>\n",
              "      <td>416</td>\n",
              "      <td>N</td>\n",
              "    </tr>\n",
              "    <tr>\n",
              "      <th>3</th>\n",
              "      <td>c-11</td>\n",
              "      <td>c-25</td>\n",
              "      <td>c-6</td>\n",
              "      <td>1015</td>\n",
              "      <td>OO</td>\n",
              "      <td>DEN</td>\n",
              "      <td>MEM</td>\n",
              "      <td>872</td>\n",
              "      <td>N</td>\n",
              "    </tr>\n",
              "    <tr>\n",
              "      <th>4</th>\n",
              "      <td>c-10</td>\n",
              "      <td>c-7</td>\n",
              "      <td>c-6</td>\n",
              "      <td>1828</td>\n",
              "      <td>WN</td>\n",
              "      <td>MDW</td>\n",
              "      <td>OMA</td>\n",
              "      <td>423</td>\n",
              "      <td>Y</td>\n",
              "    </tr>\n",
              "  </tbody>\n",
              "</table>\n",
              "</div>"
            ],
            "text/plain": [
              "  Month DayofMonth DayOfWeek  DepTime  ... Origin Dest Distance  dep_delayed_15min\n",
              "0   c-8       c-21       c-7     1934  ...    ATL  DFW      732                  N\n",
              "1   c-4       c-20       c-3     1548  ...    PIT  MCO      834                  N\n",
              "2   c-9        c-2       c-5     1422  ...    RDU  CLE      416                  N\n",
              "3  c-11       c-25       c-6     1015  ...    DEN  MEM      872                  N\n",
              "4  c-10        c-7       c-6     1828  ...    MDW  OMA      423                  Y\n",
              "\n",
              "[5 rows x 9 columns]"
            ]
          },
          "metadata": {
            "tags": []
          },
          "execution_count": 5
        }
      ]
    },
    {
      "cell_type": "markdown",
      "metadata": {
        "id": "sXLfqmt96XvU",
        "colab_type": "text"
      },
      "source": [
        "How many flights got delayed at Charlotte?"
      ]
    },
    {
      "cell_type": "code",
      "metadata": {
        "id": "DXLfEg6TkgKS",
        "colab_type": "code",
        "colab": {
          "base_uri": "https://localhost:8080/",
          "height": 34
        },
        "outputId": "433418de-60e3-486a-e0ce-a53db36ecbd0"
      },
      "source": [
        "CLT_flights = data[data['Origin'] == \"CLT\"]\n",
        "print(\"{} flights got delayed at Charlotte.\".format(CLT_flights[CLT_flights['dep_delayed_15min'] == \"Y\"].shape[0]))"
      ],
      "execution_count": null,
      "outputs": [
        {
          "output_type": "stream",
          "text": [
            "288 flights got delayed at Charlotte.\n"
          ],
          "name": "stdout"
        }
      ]
    },
    {
      "cell_type": "markdown",
      "metadata": {
        "id": "KOjCmoaQ6bTF",
        "colab_type": "text"
      },
      "source": [
        "Show the number of departures per hour-of-day."
      ]
    },
    {
      "cell_type": "code",
      "metadata": {
        "id": "nggBQbyYsaKH",
        "colab_type": "code",
        "colab": {
          "base_uri": "https://localhost:8080/",
          "height": 425
        },
        "outputId": "d35e0065-e059-4ff9-a1ed-cfe064b09fcf"
      },
      "source": [
        "# You are adviced to use 'groupby'. More info can be found here:\n",
        "# https://pandas.pydata.org/pandas-docs/stable/generated/pandas.DataFrame.groupby.html\n",
        "\n",
        "data['DepHour'] = data[\"DepTime\"] // 100\n",
        "\n",
        "for i, depHour in enumerate(data['DepHour'].values):\n",
        "  if depHour >= 24:\n",
        "    data.loc[i, 'DepHour'] = depHour - 24\n",
        "\n",
        "# Found it easier to use iloc here.\n",
        "NumOfDepPerHour = data.iloc[:, 9].value_counts().sort_index()\n",
        "# print(NumOfDepPerHour)\n",
        "for hour, num_dep in zip(NumOfDepPerHour.index, NumOfDepPerHour):\n",
        "  print(\"Hour: {}  {}Departures: {}\".format(hour, \" \" if hour < 10 else \"\", num_dep))"
      ],
      "execution_count": null,
      "outputs": [
        {
          "output_type": "stream",
          "text": [
            "Hour: 0   Departures: 331\n",
            "Hour: 1   Departures: 82\n",
            "Hour: 2   Departures: 27\n",
            "Hour: 3   Departures: 8\n",
            "Hour: 4   Departures: 38\n",
            "Hour: 5   Departures: 1636\n",
            "Hour: 6   Departures: 6315\n",
            "Hour: 7   Departures: 6329\n",
            "Hour: 8   Departures: 6620\n",
            "Hour: 9   Departures: 6409\n",
            "Hour: 10  Departures: 6363\n",
            "Hour: 11  Departures: 6340\n",
            "Hour: 12  Departures: 6363\n",
            "Hour: 13  Departures: 6178\n",
            "Hour: 14  Departures: 6006\n",
            "Hour: 15  Departures: 6170\n",
            "Hour: 16  Departures: 6112\n",
            "Hour: 17  Departures: 6562\n",
            "Hour: 18  Departures: 6110\n",
            "Hour: 19  Departures: 5500\n",
            "Hour: 20  Departures: 4430\n",
            "Hour: 21  Departures: 3505\n",
            "Hour: 22  Departures: 1787\n",
            "Hour: 23  Departures: 779\n"
          ],
          "name": "stdout"
        }
      ]
    },
    {
      "cell_type": "markdown",
      "metadata": {
        "id": "JdPU6SQ16gYd",
        "colab_type": "text"
      },
      "source": [
        "Plot number of departures (Y axis) per hour-of-day (X axis)."
      ]
    },
    {
      "cell_type": "code",
      "metadata": {
        "id": "jtI5fHZNugSX",
        "colab_type": "code",
        "colab": {}
      },
      "source": [
        "def plot(title, x, x_name, y, y_name):\n",
        "  figure = plt.figure(figsize=(8, 6), dpi=80, facecolor='w')\n",
        "\n",
        "  plt.title(title)\n",
        "  plt.xlabel(x_name)\n",
        "  plt.ylabel(y_name)\n",
        "\n",
        "  plt.xticks(list(x))\n",
        "\n",
        "  for hour, num_d in zip(x, y):\n",
        "    plt.scatter(hour, num_d)\n",
        "\n",
        "  plt.show()"
      ],
      "execution_count": null,
      "outputs": []
    },
    {
      "cell_type": "code",
      "metadata": {
        "id": "vSsNVTJYA27Z",
        "colab_type": "code",
        "colab": {
          "base_uri": "https://localhost:8080/",
          "height": 444
        },
        "outputId": "5d49c71f-86a3-4dbb-fe85-d6cc3676dc6a"
      },
      "source": [
        "plot(\"Number of departures per hour-of-day\", NumOfDepPerHour.index, \"Hour-of-day\", NumOfDepPerHour.values,\"Number of departures\")"
      ],
      "execution_count": null,
      "outputs": [
        {
          "output_type": "display_data",
          "data": {
            "image/png": "[encoded data removed]",
            "text/plain": [
              "<Figure size 640x480 with 1 Axes>"
            ]
          },
          "metadata": {
            "tags": []
          }
        }
      ]
    },
    {
      "cell_type": "markdown",
      "metadata": {
        "id": "IBxmF7LA6i-3",
        "colab_type": "text"
      },
      "source": [
        "Plot the average number of delays per hour-of-day."
      ]
    },
    {
      "cell_type": "code",
      "metadata": {
        "id": "RlowAJ7HodN8",
        "colab_type": "code",
        "colab": {
          "base_uri": "https://localhost:8080/",
          "height": 869
        },
        "outputId": "84e4acdd-6099-41f7-f699-6247fab1ae84"
      },
      "source": [
        "x = data.loc[:, ['DepHour', 'dep_delayed_15min']]\n",
        "delayed = x[x['dep_delayed_15min'] == \"Y\"]\n",
        "\n",
        "delays_per_hour = delayed.iloc[:, 0].value_counts().sort_index().divide(NumOfDepPerHour) * 100\n",
        "\n",
        "for hour, delays in zip(delays_per_hour.index, delays_per_hour):\n",
        "  print(\"Hour: {}  {}Delays: {}%{}\".format(hour, \" \" if hour < 10 else \"\", '%.3f' % delays, \"\\n\" if hour == 23 else \"\"))\n",
        "\n",
        "plot(\"Percentage of delays per hour-of-day\", delays_per_hour.index, \"Hour-of-day\", delays_per_hour,\"Percentage of delays\")"
      ],
      "execution_count": null,
      "outputs": [
        {
          "output_type": "stream",
          "text": [
            "Hour: 0   Delays: 56.193%\n",
            "Hour: 1   Delays: 63.415%\n",
            "Hour: 2   Delays: 44.444%\n",
            "Hour: 3   Delays: 62.500%\n",
            "Hour: 4   Delays: 7.895%\n",
            "Hour: 5   Delays: 0.672%\n",
            "Hour: 6   Delays: 2.518%\n",
            "Hour: 7   Delays: 5.704%\n",
            "Hour: 8   Delays: 7.689%\n",
            "Hour: 9   Delays: 11.297%\n",
            "Hour: 10  Delays: 13.296%\n",
            "Hour: 11  Delays: 14.953%\n",
            "Hour: 12  Delays: 17.177%\n",
            "Hour: 13  Delays: 19.440%\n",
            "Hour: 14  Delays: 19.697%\n",
            "Hour: 15  Delays: 22.415%\n",
            "Hour: 16  Delays: 23.380%\n",
            "Hour: 17  Delays: 23.819%\n",
            "Hour: 18  Delays: 27.971%\n",
            "Hour: 19  Delays: 30.509%\n",
            "Hour: 20  Delays: 33.657%\n",
            "Hour: 21  Delays: 39.030%\n",
            "Hour: 22  Delays: 43.089%\n",
            "Hour: 23  Delays: 46.213%\n",
            "\n"
          ],
          "name": "stdout"
        },
        {
          "output_type": "display_data",
          "data": {
            "image/png": "[encoded data removed]",
            "text/plain": [
              "<Figure size 640x480 with 1 Axes>"
            ]
          },
          "metadata": {
            "tags": []
          }
        }
      ]
    },
    {
      "cell_type": "markdown",
      "metadata": {
        "id": "0c6dttfv6l1W",
        "colab_type": "text"
      },
      "source": [
        "Find the worse pair of origin and carrier."
      ]
    },
    {
      "cell_type": "code",
      "metadata": {
        "id": "y-JEg6gk0sKB",
        "colab_type": "code",
        "colab": {
          "base_uri": "https://localhost:8080/",
          "height": 34
        },
        "outputId": "56849e14-b127-4bd6-b4bc-0afd6e153f67"
      },
      "source": [
        "# You may want to use 'idxmax' (like argmax, returning the row with max value of specific column)\n",
        "\n",
        "origin_carrier = data.loc[:, ['UniqueCarrier', 'Origin', 'dep_delayed_15min']]\n",
        "Delayed = origin_carrier[origin_carrier['dep_delayed_15min'] == \"Y\"]\n",
        "worst_pair = Delayed.groupby(['Origin', 'UniqueCarrier']).count().idxmax()[0]\n",
        "\n",
        "print(\"Worst pair of origin and carrier:\", worst_pair)"
      ],
      "execution_count": null,
      "outputs": [
        {
          "output_type": "stream",
          "text": [
            "Worst pair of origin and carrier: ('ATL', 'DL')\n"
          ],
          "name": "stdout"
        }
      ]
    },
    {
      "cell_type": "markdown",
      "metadata": {
        "id": "Jou6tsNs89z6",
        "colab_type": "text"
      },
      "source": [
        "# Section 2: Supervised Learning\n",
        "Here, you are requested to use all features to predict the response parameter dep_delayed_15min.\n",
        "\n",
        "* Note: some of those things are covered in notebooks 1-4."
      ]
    },
    {
      "cell_type": "code",
      "metadata": {
        "id": "vDS7H_7i64VW",
        "colab_type": "code",
        "colab": {}
      },
      "source": [
        "# TODO: encode all categorical features as one-hot representation\n",
        "\n",
        "X = pd.read_csv('./flight_delays_train.csv')\n",
        "categorial_features = ['Month', 'DayofMonth', 'DayOfWeek', 'UniqueCarrier', 'Origin', 'Dest']\n",
        "\n",
        "for feature in categorial_features:\n",
        "  X = pd.concat([X, pd.get_dummies(X[feature], prefix=feature)], axis=1)\n",
        "\n",
        "X = X.drop(columns=categorial_features)"
      ],
      "execution_count": null,
      "outputs": []
    },
    {
      "cell_type": "code",
      "metadata": {
        "id": "mc0as2AfBDge",
        "colab_type": "code",
        "colab": {
          "base_uri": "https://localhost:8080/",
          "height": 275
        },
        "outputId": "f9e0a5dc-2fcf-4714-eeb5-3e7466f531a0"
      },
      "source": [
        "X.head()"
      ],
      "execution_count": null,
      "outputs": [
        {
          "output_type": "execute_result",
          "data": {
            "text/html": [
              "<div>\n",
              "<style scoped>\n",
              "    .dataframe tbody tr th:only-of-type {\n",
              "        vertical-align: middle;\n",
              "    }\n",
              "\n",
              "    .dataframe tbody tr th {\n",
              "        vertical-align: top;\n",
              "    }\n",
              "\n",
              "    .dataframe thead th {\n",
              "        text-align: right;\n",
              "    }\n",
              "</style>\n",
              "<table border=\"1\" class=\"dataframe\">\n",
              "  <thead>\n",
              "    <tr style=\"text-align: right;\">\n",
              "      <th></th>\n",
              "      <th>DepTime</th>\n",
              "      <th>Distance</th>\n",
              "      <th>dep_delayed_15min</th>\n",
              "      <th>Month_c-1</th>\n",
              "      <th>Month_c-10</th>\n",
              "      <th>Month_c-11</th>\n",
              "      <th>Month_c-12</th>\n",
              "      <th>Month_c-2</th>\n",
              "      <th>Month_c-3</th>\n",
              "      <th>Month_c-4</th>\n",
              "      <th>Month_c-5</th>\n",
              "      <th>Month_c-6</th>\n",
              "      <th>Month_c-7</th>\n",
              "      <th>Month_c-8</th>\n",
              "      <th>Month_c-9</th>\n",
              "      <th>DayofMonth_c-1</th>\n",
              "      <th>DayofMonth_c-10</th>\n",
              "      <th>DayofMonth_c-11</th>\n",
              "      <th>DayofMonth_c-12</th>\n",
              "      <th>DayofMonth_c-13</th>\n",
              "      <th>DayofMonth_c-14</th>\n",
              "      <th>DayofMonth_c-15</th>\n",
              "      <th>DayofMonth_c-16</th>\n",
              "      <th>DayofMonth_c-17</th>\n",
              "      <th>DayofMonth_c-18</th>\n",
              "      <th>DayofMonth_c-19</th>\n",
              "      <th>DayofMonth_c-2</th>\n",
              "      <th>DayofMonth_c-20</th>\n",
              "      <th>DayofMonth_c-21</th>\n",
              "      <th>DayofMonth_c-22</th>\n",
              "      <th>DayofMonth_c-23</th>\n",
              "      <th>DayofMonth_c-24</th>\n",
              "      <th>DayofMonth_c-25</th>\n",
              "      <th>DayofMonth_c-26</th>\n",
              "      <th>DayofMonth_c-27</th>\n",
              "      <th>DayofMonth_c-28</th>\n",
              "      <th>DayofMonth_c-29</th>\n",
              "      <th>DayofMonth_c-3</th>\n",
              "      <th>DayofMonth_c-30</th>\n",
              "      <th>DayofMonth_c-31</th>\n",
              "      <th>...</th>\n",
              "      <th>Dest_SJC</th>\n",
              "      <th>Dest_SJT</th>\n",
              "      <th>Dest_SJU</th>\n",
              "      <th>Dest_SLC</th>\n",
              "      <th>Dest_SMF</th>\n",
              "      <th>Dest_SMX</th>\n",
              "      <th>Dest_SNA</th>\n",
              "      <th>Dest_SOP</th>\n",
              "      <th>Dest_SPI</th>\n",
              "      <th>Dest_SPS</th>\n",
              "      <th>Dest_SRQ</th>\n",
              "      <th>Dest_STL</th>\n",
              "      <th>Dest_STT</th>\n",
              "      <th>Dest_STX</th>\n",
              "      <th>Dest_SUN</th>\n",
              "      <th>Dest_SWF</th>\n",
              "      <th>Dest_SYR</th>\n",
              "      <th>Dest_TEX</th>\n",
              "      <th>Dest_TLH</th>\n",
              "      <th>Dest_TOL</th>\n",
              "      <th>Dest_TPA</th>\n",
              "      <th>Dest_TRI</th>\n",
              "      <th>Dest_TTN</th>\n",
              "      <th>Dest_TUL</th>\n",
              "      <th>Dest_TUP</th>\n",
              "      <th>Dest_TUS</th>\n",
              "      <th>Dest_TVC</th>\n",
              "      <th>Dest_TWF</th>\n",
              "      <th>Dest_TXK</th>\n",
              "      <th>Dest_TYR</th>\n",
              "      <th>Dest_TYS</th>\n",
              "      <th>Dest_VCT</th>\n",
              "      <th>Dest_VIS</th>\n",
              "      <th>Dest_VLD</th>\n",
              "      <th>Dest_VPS</th>\n",
              "      <th>Dest_WRG</th>\n",
              "      <th>Dest_WYS</th>\n",
              "      <th>Dest_XNA</th>\n",
              "      <th>Dest_YAK</th>\n",
              "      <th>Dest_YUM</th>\n",
              "    </tr>\n",
              "  </thead>\n",
              "  <tbody>\n",
              "    <tr>\n",
              "      <th>0</th>\n",
              "      <td>1934</td>\n",
              "      <td>732</td>\n",
              "      <td>N</td>\n",
              "      <td>0</td>\n",
              "      <td>0</td>\n",
              "      <td>0</td>\n",
              "      <td>0</td>\n",
              "      <td>0</td>\n",
              "      <td>0</td>\n",
              "      <td>0</td>\n",
              "      <td>0</td>\n",
              "      <td>0</td>\n",
              "      <td>0</td>\n",
              "      <td>1</td>\n",
              "      <td>0</td>\n",
              "      <td>0</td>\n",
              "      <td>0</td>\n",
              "      <td>0</td>\n",
              "      <td>0</td>\n",
              "      <td>0</td>\n",
              "      <td>0</td>\n",
              "      <td>0</td>\n",
              "      <td>0</td>\n",
              "      <td>0</td>\n",
              "      <td>0</td>\n",
              "      <td>0</td>\n",
              "      <td>0</td>\n",
              "      <td>0</td>\n",
              "      <td>1</td>\n",
              "      <td>0</td>\n",
              "      <td>0</td>\n",
              "      <td>0</td>\n",
              "      <td>0</td>\n",
              "      <td>0</td>\n",
              "      <td>0</td>\n",
              "      <td>0</td>\n",
              "      <td>0</td>\n",
              "      <td>0</td>\n",
              "      <td>0</td>\n",
              "      <td>0</td>\n",
              "      <td>...</td>\n",
              "      <td>0</td>\n",
              "      <td>0</td>\n",
              "      <td>0</td>\n",
              "      <td>0</td>\n",
              "      <td>0</td>\n",
              "      <td>0</td>\n",
              "      <td>0</td>\n",
              "      <td>0</td>\n",
              "      <td>0</td>\n",
              "      <td>0</td>\n",
              "      <td>0</td>\n",
              "      <td>0</td>\n",
              "      <td>0</td>\n",
              "      <td>0</td>\n",
              "      <td>0</td>\n",
              "      <td>0</td>\n",
              "      <td>0</td>\n",
              "      <td>0</td>\n",
              "      <td>0</td>\n",
              "      <td>0</td>\n",
              "      <td>0</td>\n",
              "      <td>0</td>\n",
              "      <td>0</td>\n",
              "      <td>0</td>\n",
              "      <td>0</td>\n",
              "      <td>0</td>\n",
              "      <td>0</td>\n",
              "      <td>0</td>\n",
              "      <td>0</td>\n",
              "      <td>0</td>\n",
              "      <td>0</td>\n",
              "      <td>0</td>\n",
              "      <td>0</td>\n",
              "      <td>0</td>\n",
              "      <td>0</td>\n",
              "      <td>0</td>\n",
              "      <td>0</td>\n",
              "      <td>0</td>\n",
              "      <td>0</td>\n",
              "      <td>0</td>\n",
              "    </tr>\n",
              "    <tr>\n",
              "      <th>1</th>\n",
              "      <td>1548</td>\n",
              "      <td>834</td>\n",
              "      <td>N</td>\n",
              "      <td>0</td>\n",
              "      <td>0</td>\n",
              "      <td>0</td>\n",
              "      <td>0</td>\n",
              "      <td>0</td>\n",
              "      <td>0</td>\n",
              "      <td>1</td>\n",
              "      <td>0</td>\n",
              "      <td>0</td>\n",
              "      <td>0</td>\n",
              "      <td>0</td>\n",
              "      <td>0</td>\n",
              "      <td>0</td>\n",
              "      <td>0</td>\n",
              "      <td>0</td>\n",
              "      <td>0</td>\n",
              "      <td>0</td>\n",
              "      <td>0</td>\n",
              "      <td>0</td>\n",
              "      <td>0</td>\n",
              "      <td>0</td>\n",
              "      <td>0</td>\n",
              "      <td>0</td>\n",
              "      <td>0</td>\n",
              "      <td>1</td>\n",
              "      <td>0</td>\n",
              "      <td>0</td>\n",
              "      <td>0</td>\n",
              "      <td>0</td>\n",
              "      <td>0</td>\n",
              "      <td>0</td>\n",
              "      <td>0</td>\n",
              "      <td>0</td>\n",
              "      <td>0</td>\n",
              "      <td>0</td>\n",
              "      <td>0</td>\n",
              "      <td>0</td>\n",
              "      <td>...</td>\n",
              "      <td>0</td>\n",
              "      <td>0</td>\n",
              "      <td>0</td>\n",
              "      <td>0</td>\n",
              "      <td>0</td>\n",
              "      <td>0</td>\n",
              "      <td>0</td>\n",
              "      <td>0</td>\n",
              "      <td>0</td>\n",
              "      <td>0</td>\n",
              "      <td>0</td>\n",
              "      <td>0</td>\n",
              "      <td>0</td>\n",
              "      <td>0</td>\n",
              "      <td>0</td>\n",
              "      <td>0</td>\n",
              "      <td>0</td>\n",
              "      <td>0</td>\n",
              "      <td>0</td>\n",
              "      <td>0</td>\n",
              "      <td>0</td>\n",
              "      <td>0</td>\n",
              "      <td>0</td>\n",
              "      <td>0</td>\n",
              "      <td>0</td>\n",
              "      <td>0</td>\n",
              "      <td>0</td>\n",
              "      <td>0</td>\n",
              "      <td>0</td>\n",
              "      <td>0</td>\n",
              "      <td>0</td>\n",
              "      <td>0</td>\n",
              "      <td>0</td>\n",
              "      <td>0</td>\n",
              "      <td>0</td>\n",
              "      <td>0</td>\n",
              "      <td>0</td>\n",
              "      <td>0</td>\n",
              "      <td>0</td>\n",
              "      <td>0</td>\n",
              "    </tr>\n",
              "    <tr>\n",
              "      <th>2</th>\n",
              "      <td>1422</td>\n",
              "      <td>416</td>\n",
              "      <td>N</td>\n",
              "      <td>0</td>\n",
              "      <td>0</td>\n",
              "      <td>0</td>\n",
              "      <td>0</td>\n",
              "      <td>0</td>\n",
              "      <td>0</td>\n",
              "      <td>0</td>\n",
              "      <td>0</td>\n",
              "      <td>0</td>\n",
              "      <td>0</td>\n",
              "      <td>0</td>\n",
              "      <td>1</td>\n",
              "      <td>0</td>\n",
              "      <td>0</td>\n",
              "      <td>0</td>\n",
              "      <td>0</td>\n",
              "      <td>0</td>\n",
              "      <td>0</td>\n",
              "      <td>0</td>\n",
              "      <td>0</td>\n",
              "      <td>0</td>\n",
              "      <td>0</td>\n",
              "      <td>0</td>\n",
              "      <td>1</td>\n",
              "      <td>0</td>\n",
              "      <td>0</td>\n",
              "      <td>0</td>\n",
              "      <td>0</td>\n",
              "      <td>0</td>\n",
              "      <td>0</td>\n",
              "      <td>0</td>\n",
              "      <td>0</td>\n",
              "      <td>0</td>\n",
              "      <td>0</td>\n",
              "      <td>0</td>\n",
              "      <td>0</td>\n",
              "      <td>0</td>\n",
              "      <td>...</td>\n",
              "      <td>0</td>\n",
              "      <td>0</td>\n",
              "      <td>0</td>\n",
              "      <td>0</td>\n",
              "      <td>0</td>\n",
              "      <td>0</td>\n",
              "      <td>0</td>\n",
              "      <td>0</td>\n",
              "      <td>0</td>\n",
              "      <td>0</td>\n",
              "      <td>0</td>\n",
              "      <td>0</td>\n",
              "      <td>0</td>\n",
              "      <td>0</td>\n",
              "      <td>0</td>\n",
              "      <td>0</td>\n",
              "      <td>0</td>\n",
              "      <td>0</td>\n",
              "      <td>0</td>\n",
              "      <td>0</td>\n",
              "      <td>0</td>\n",
              "      <td>0</td>\n",
              "      <td>0</td>\n",
              "      <td>0</td>\n",
              "      <td>0</td>\n",
              "      <td>0</td>\n",
              "      <td>0</td>\n",
              "      <td>0</td>\n",
              "      <td>0</td>\n",
              "      <td>0</td>\n",
              "      <td>0</td>\n",
              "      <td>0</td>\n",
              "      <td>0</td>\n",
              "      <td>0</td>\n",
              "      <td>0</td>\n",
              "      <td>0</td>\n",
              "      <td>0</td>\n",
              "      <td>0</td>\n",
              "      <td>0</td>\n",
              "      <td>0</td>\n",
              "    </tr>\n",
              "    <tr>\n",
              "      <th>3</th>\n",
              "      <td>1015</td>\n",
              "      <td>872</td>\n",
              "      <td>N</td>\n",
              "      <td>0</td>\n",
              "      <td>0</td>\n",
              "      <td>1</td>\n",
              "      <td>0</td>\n",
              "      <td>0</td>\n",
              "      <td>0</td>\n",
              "      <td>0</td>\n",
              "      <td>0</td>\n",
              "      <td>0</td>\n",
              "      <td>0</td>\n",
              "      <td>0</td>\n",
              "      <td>0</td>\n",
              "      <td>0</td>\n",
              "      <td>0</td>\n",
              "      <td>0</td>\n",
              "      <td>0</td>\n",
              "      <td>0</td>\n",
              "      <td>0</td>\n",
              "      <td>0</td>\n",
              "      <td>0</td>\n",
              "      <td>0</td>\n",
              "      <td>0</td>\n",
              "      <td>0</td>\n",
              "      <td>0</td>\n",
              "      <td>0</td>\n",
              "      <td>0</td>\n",
              "      <td>0</td>\n",
              "      <td>0</td>\n",
              "      <td>0</td>\n",
              "      <td>1</td>\n",
              "      <td>0</td>\n",
              "      <td>0</td>\n",
              "      <td>0</td>\n",
              "      <td>0</td>\n",
              "      <td>0</td>\n",
              "      <td>0</td>\n",
              "      <td>0</td>\n",
              "      <td>...</td>\n",
              "      <td>0</td>\n",
              "      <td>0</td>\n",
              "      <td>0</td>\n",
              "      <td>0</td>\n",
              "      <td>0</td>\n",
              "      <td>0</td>\n",
              "      <td>0</td>\n",
              "      <td>0</td>\n",
              "      <td>0</td>\n",
              "      <td>0</td>\n",
              "      <td>0</td>\n",
              "      <td>0</td>\n",
              "      <td>0</td>\n",
              "      <td>0</td>\n",
              "      <td>0</td>\n",
              "      <td>0</td>\n",
              "      <td>0</td>\n",
              "      <td>0</td>\n",
              "      <td>0</td>\n",
              "      <td>0</td>\n",
              "      <td>0</td>\n",
              "      <td>0</td>\n",
              "      <td>0</td>\n",
              "      <td>0</td>\n",
              "      <td>0</td>\n",
              "      <td>0</td>\n",
              "      <td>0</td>\n",
              "      <td>0</td>\n",
              "      <td>0</td>\n",
              "      <td>0</td>\n",
              "      <td>0</td>\n",
              "      <td>0</td>\n",
              "      <td>0</td>\n",
              "      <td>0</td>\n",
              "      <td>0</td>\n",
              "      <td>0</td>\n",
              "      <td>0</td>\n",
              "      <td>0</td>\n",
              "      <td>0</td>\n",
              "      <td>0</td>\n",
              "    </tr>\n",
              "    <tr>\n",
              "      <th>4</th>\n",
              "      <td>1828</td>\n",
              "      <td>423</td>\n",
              "      <td>Y</td>\n",
              "      <td>0</td>\n",
              "      <td>1</td>\n",
              "      <td>0</td>\n",
              "      <td>0</td>\n",
              "      <td>0</td>\n",
              "      <td>0</td>\n",
              "      <td>0</td>\n",
              "      <td>0</td>\n",
              "      <td>0</td>\n",
              "      <td>0</td>\n",
              "      <td>0</td>\n",
              "      <td>0</td>\n",
              "      <td>0</td>\n",
              "      <td>0</td>\n",
              "      <td>0</td>\n",
              "      <td>0</td>\n",
              "      <td>0</td>\n",
              "      <td>0</td>\n",
              "      <td>0</td>\n",
              "      <td>0</td>\n",
              "      <td>0</td>\n",
              "      <td>0</td>\n",
              "      <td>0</td>\n",
              "      <td>0</td>\n",
              "      <td>0</td>\n",
              "      <td>0</td>\n",
              "      <td>0</td>\n",
              "      <td>0</td>\n",
              "      <td>0</td>\n",
              "      <td>0</td>\n",
              "      <td>0</td>\n",
              "      <td>0</td>\n",
              "      <td>0</td>\n",
              "      <td>0</td>\n",
              "      <td>0</td>\n",
              "      <td>0</td>\n",
              "      <td>0</td>\n",
              "      <td>...</td>\n",
              "      <td>0</td>\n",
              "      <td>0</td>\n",
              "      <td>0</td>\n",
              "      <td>0</td>\n",
              "      <td>0</td>\n",
              "      <td>0</td>\n",
              "      <td>0</td>\n",
              "      <td>0</td>\n",
              "      <td>0</td>\n",
              "      <td>0</td>\n",
              "      <td>0</td>\n",
              "      <td>0</td>\n",
              "      <td>0</td>\n",
              "      <td>0</td>\n",
              "      <td>0</td>\n",
              "      <td>0</td>\n",
              "      <td>0</td>\n",
              "      <td>0</td>\n",
              "      <td>0</td>\n",
              "      <td>0</td>\n",
              "      <td>0</td>\n",
              "      <td>0</td>\n",
              "      <td>0</td>\n",
              "      <td>0</td>\n",
              "      <td>0</td>\n",
              "      <td>0</td>\n",
              "      <td>0</td>\n",
              "      <td>0</td>\n",
              "      <td>0</td>\n",
              "      <td>0</td>\n",
              "      <td>0</td>\n",
              "      <td>0</td>\n",
              "      <td>0</td>\n",
              "      <td>0</td>\n",
              "      <td>0</td>\n",
              "      <td>0</td>\n",
              "      <td>0</td>\n",
              "      <td>0</td>\n",
              "      <td>0</td>\n",
              "      <td>0</td>\n",
              "    </tr>\n",
              "  </tbody>\n",
              "</table>\n",
              "<p>5 rows × 653 columns</p>\n",
              "</div>"
            ],
            "text/plain": [
              "   DepTime  Distance dep_delayed_15min  ...  Dest_XNA  Dest_YAK  Dest_YUM\n",
              "0     1934       732                 N  ...         0         0         0\n",
              "1     1548       834                 N  ...         0         0         0\n",
              "2     1422       416                 N  ...         0         0         0\n",
              "3     1015       872                 N  ...         0         0         0\n",
              "4     1828       423                 Y  ...         0         0         0\n",
              "\n",
              "[5 rows x 653 columns]"
            ]
          },
          "metadata": {
            "tags": []
          },
          "execution_count": 76
        }
      ]
    },
    {
      "cell_type": "markdown",
      "metadata": {
        "id": "CHT91PsSBl_E",
        "colab_type": "text"
      },
      "source": [
        "Splitting the data"
      ]
    },
    {
      "cell_type": "code",
      "metadata": {
        "id": "9FBdpRLSYGzW",
        "colab_type": "code",
        "colab": {}
      },
      "source": [
        "y = X['dep_delayed_15min']\n",
        "X = X.drop(columns=['dep_delayed_15min'])"
      ],
      "execution_count": null,
      "outputs": []
    },
    {
      "cell_type": "code",
      "metadata": {
        "id": "cBcZiAQFBJLf",
        "colab_type": "code",
        "colab": {}
      },
      "source": [
        "# TODO: Split the data to train and test. Use test_size=0.3, and random_state=1 \n",
        "X_train, X_test, y_train, y_test = train_test_split(X, y, test_size=0.3, random_state=1)"
      ],
      "execution_count": null,
      "outputs": []
    },
    {
      "cell_type": "markdown",
      "metadata": {
        "id": "BpnJalxVBrbK",
        "colab_type": "text"
      },
      "source": [
        "Fitting Logistic Regression classifier to the training set"
      ]
    },
    {
      "cell_type": "code",
      "metadata": {
        "id": "50iSOj45dWrI",
        "colab_type": "code",
        "colab": {
          "base_uri": "https://localhost:8080/",
          "height": 102
        },
        "outputId": "2e7a670b-9f35-417b-9b57-49a4eda8bc06"
      },
      "source": [
        "# TODO: Fit a LogisticRegression classifier to the training set\n",
        "lr = LogisticRegression()\n",
        "lr.fit(X_train, y_train)"
      ],
      "execution_count": null,
      "outputs": [
        {
          "output_type": "execute_result",
          "data": {
            "text/plain": [
              "LogisticRegression(C=1.0, class_weight=None, dual=False, fit_intercept=True,\n",
              "                   intercept_scaling=1, l1_ratio=None, max_iter=100,\n",
              "                   multi_class='auto', n_jobs=None, penalty='l2',\n",
              "                   random_state=None, solver='lbfgs', tol=0.0001, verbose=0,\n",
              "                   warm_start=False)"
            ]
          },
          "metadata": {
            "tags": []
          },
          "execution_count": 79
        }
      ]
    },
    {
      "cell_type": "markdown",
      "metadata": {
        "id": "UcV7C27IBvyy",
        "colab_type": "text"
      },
      "source": [
        "Printing the Logistic Regression's Confusion matrix"
      ]
    },
    {
      "cell_type": "code",
      "metadata": {
        "id": "QuamnM9MdoDl",
        "colab_type": "code",
        "colab": {
          "base_uri": "https://localhost:8080/",
          "height": 51
        },
        "outputId": "a9c952f6-2a66-46b2-ae7d-60e2006a1f10"
      },
      "source": [
        "# TODO: print confusion matrix over the testing set\n",
        "y_hat_test = lr.predict(X_test)\n",
        "conf_mx = confusion_matrix(y_test, y_hat_test, labels=['Y', 'N'])\n",
        "print(conf_mx)"
      ],
      "execution_count": null,
      "outputs": [
        {
          "output_type": "stream",
          "text": [
            "[[  325  5261]\n",
            " [  265 24149]]\n"
          ],
          "name": "stdout"
        }
      ]
    },
    {
      "cell_type": "markdown",
      "metadata": {
        "id": "Qf8_Q9IrBzny",
        "colab_type": "text"
      },
      "source": [
        "Calculating Precision, Recall and F score for all 4 classifiers"
      ]
    },
    {
      "cell_type": "code",
      "metadata": {
        "id": "fJlP7qADjYgd",
        "colab_type": "code",
        "colab": {}
      },
      "source": [
        "# TODO: Similarly, print precision/recall for the following classifiers:\n",
        "# sklearn.naive_bayes.BernoulliNB\n",
        "# sklearn.neighbors.KNeighborsClassifier\n",
        "# sklearn.svm.LinearSVC\n",
        "\n",
        "def apply_classifier(clf, clf_name, X_train, y_train, X_test, y_test):\n",
        "  clf.fit(X_train, y_train)\n",
        "  y_hat_test = clf.predict(X_test)\n",
        "  conf_mx = confusion_matrix(y_test, y_hat_test, labels=['Y', 'N'])\n",
        "\n",
        "  TruePositives = conf_mx[0][0]\n",
        "  FalseNegatives = conf_mx[0][1]\n",
        "  FalsePositives = conf_mx[1][0]\n",
        "  TrueNegatives = conf_mx[1][1]\n",
        "\n",
        "  precision = TruePositives / (TruePositives + FalsePositives)\n",
        "  recall = TruePositives / (TruePositives + FalseNegatives)\n",
        "  f_score = (2 * precision * recall) / (precision + recall)\n",
        "\n",
        "  print(\"{}\\nPrecision: {}\\nRecall: {}\\nF score: {}\\n\".format(clf_name, '%.3f' % precision, '%.3f' % recall,'%.3f' % f_score))"
      ],
      "execution_count": null,
      "outputs": []
    },
    {
      "cell_type": "code",
      "metadata": {
        "id": "OBGAqa6TBYVs",
        "colab_type": "code",
        "colab": {
          "base_uri": "https://localhost:8080/",
          "height": 391
        },
        "outputId": "0e3e7a59-2cfe-4118-a775-dcd316039c20"
      },
      "source": [
        "apply_classifier(LogisticRegression(), \"Logistic Regression Classifier\", X_train, y_train, X_test, y_test)\n",
        "apply_classifier(BernoulliNB(), \"Naive Bayes (Bernoulli) Classifier\", X_train, y_train, X_test, y_test)\n",
        "apply_classifier(KNeighborsClassifier(), \"KNN Classifier\", X_train, y_train, X_test, y_test)\n",
        "apply_classifier(LinearSVC(random_state=0, max_iter=2500), \"SVM (Linear SVC) Classifier\", X_train, y_train, X_test, y_test)"
      ],
      "execution_count": null,
      "outputs": [
        {
          "output_type": "stream",
          "text": [
            "Logistic Regression Classifier\n",
            "Precision: 0.551\n",
            "Recall: 0.058\n",
            "F score: 0.105\n",
            "\n",
            "Naive Bayes (Bernoulli) Classifier\n",
            "Precision: 0.318\n",
            "Recall: 0.015\n",
            "F score: 0.029\n",
            "\n",
            "KNN Classifier\n",
            "Precision: 0.397\n",
            "Recall: 0.184\n",
            "F score: 0.252\n",
            "\n"
          ],
          "name": "stdout"
        },
        {
          "output_type": "stream",
          "text": [
            "/usr/local/lib/python3.6/dist-packages/sklearn/svm/_base.py:947: ConvergenceWarning: Liblinear failed to converge, increase the number of iterations.\n",
            "  \"the number of iterations.\", ConvergenceWarning)\n"
          ],
          "name": "stderr"
        },
        {
          "output_type": "stream",
          "text": [
            "SVM (Linear SVC) Classifier\n",
            "Precision: 0.146\n",
            "Recall: 0.020\n",
            "F score: 0.036\n",
            "\n"
          ],
          "name": "stdout"
        }
      ]
    },
    {
      "cell_type": "markdown",
      "metadata": {
        "id": "i8XT3WRmB39T",
        "colab_type": "text"
      },
      "source": [
        "**Attempt to improve the classifiers results by treating the 'Distance' and\n",
        "'DepTime' features as categorial features**"
      ]
    },
    {
      "cell_type": "code",
      "metadata": {
        "id": "MrKs0b-MToSs",
        "colab_type": "code",
        "colab": {
          "base_uri": "https://localhost:8080/",
          "height": 170
        },
        "outputId": "89833b84-f7b7-45df-b697-66e96a9b3f0f"
      },
      "source": [
        "X['Distance'].describe()"
      ],
      "execution_count": null,
      "outputs": [
        {
          "output_type": "execute_result",
          "data": {
            "text/plain": [
              "count    100000.00000\n",
              "mean        729.39716\n",
              "std         574.61686\n",
              "min          30.00000\n",
              "25%         317.00000\n",
              "50%         575.00000\n",
              "75%         957.00000\n",
              "max        4962.00000\n",
              "Name: Distance, dtype: float64"
            ]
          },
          "metadata": {
            "tags": []
          },
          "execution_count": 83
        }
      ]
    },
    {
      "cell_type": "code",
      "metadata": {
        "id": "bH2zOVuizZZb",
        "colab_type": "code",
        "colab": {}
      },
      "source": [
        "# Using bins on the 'Distance' feature in order to treat it as categorial feature.\n",
        "\n",
        "bins = [0, 2000, 4000, 5000]\n",
        "labels = range(1, 4)\n",
        "X['Distance_binned'] = pd.cut(X['Distance'], bins=bins, labels=labels)\n",
        "\n",
        "X = X.drop(columns=['Distance'])"
      ],
      "execution_count": null,
      "outputs": []
    },
    {
      "cell_type": "code",
      "metadata": {
        "id": "PXsnK_MyVOMe",
        "colab_type": "code",
        "colab": {
          "base_uri": "https://localhost:8080/",
          "height": 170
        },
        "outputId": "6f75c7c3-6ad7-4d24-d3be-5ef7d3425079"
      },
      "source": [
        "X['DepTime'].describe()"
      ],
      "execution_count": null,
      "outputs": [
        {
          "output_type": "execute_result",
          "data": {
            "text/plain": [
              "count    100000.000000\n",
              "mean       1341.523880\n",
              "std         476.378445\n",
              "min           1.000000\n",
              "25%         931.000000\n",
              "50%        1330.000000\n",
              "75%        1733.000000\n",
              "max        2534.000000\n",
              "Name: DepTime, dtype: float64"
            ]
          },
          "metadata": {
            "tags": []
          },
          "execution_count": 85
        }
      ]
    },
    {
      "cell_type": "code",
      "metadata": {
        "id": "Ob3liIQVkCk5",
        "colab_type": "code",
        "colab": {}
      },
      "source": [
        "# Using bins on the 'DepTime' feature in order to treat it as categorial feature.\n",
        "\n",
        "bins = [0, 300, 600, 900, 1200, 1500, 1800, 2100, 2600]\n",
        "labels = range(1, 9)\n",
        "X['DepTime_binned'] = pd.cut(X['DepTime'], bins=bins, labels=labels)\n",
        "\n",
        "X = X.drop(columns=['DepTime'])"
      ],
      "execution_count": null,
      "outputs": []
    },
    {
      "cell_type": "code",
      "metadata": {
        "id": "Tzemt4tKBbQk",
        "colab_type": "code",
        "colab": {}
      },
      "source": [
        "# Splitting the data with the new featurs to train and test.\n",
        "X_train, X_test, y_train, y_test = train_test_split(X, y, test_size=0.3, random_state=1)"
      ],
      "execution_count": null,
      "outputs": []
    },
    {
      "cell_type": "code",
      "metadata": {
        "id": "onV-p_eQBeDF",
        "colab_type": "code",
        "colab": {
          "base_uri": "https://localhost:8080/",
          "height": 357
        },
        "outputId": "46633390-aa2a-479b-b56e-e1fa5e98e5c6"
      },
      "source": [
        "apply_classifier(LogisticRegression(max_iter=500), \"Logistic Regression Classifier\", X_train, y_train, X_test, y_test)\n",
        "apply_classifier(BernoulliNB(), \"Naive Bayes (Bernoulli) Classifier\", X_train, y_train, X_test, y_test)\n",
        "apply_classifier(KNeighborsClassifier(), \"KNN Classifier\", X_train, y_train, X_test, y_test)\n",
        "apply_classifier(LinearSVC(random_state=0, max_iter=2500), \"SVM (Linear SVC) Classifier\", X_train, y_train, X_test, y_test)"
      ],
      "execution_count": null,
      "outputs": [
        {
          "output_type": "stream",
          "text": [
            "Logistic Regression Classifier\n",
            "Precision: 0.554\n",
            "Recall: 0.071\n",
            "F score: 0.125\n",
            "\n",
            "Naive Bayes (Bernoulli) Classifier\n",
            "Precision: 0.318\n",
            "Recall: 0.015\n",
            "F score: 0.029\n",
            "\n",
            "KNN Classifier\n",
            "Precision: 0.436\n",
            "Recall: 0.201\n",
            "F score: 0.275\n",
            "\n",
            "SVM (Linear SVC) Classifier\n",
            "Precision: 0.560\n",
            "Recall: 0.017\n",
            "F score: 0.033\n",
            "\n"
          ],
          "name": "stdout"
        }
      ]
    }
  ]
}